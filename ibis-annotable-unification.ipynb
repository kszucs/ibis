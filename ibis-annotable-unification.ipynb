{
 "cells": [
  {
   "cell_type": "code",
   "execution_count": 1,
   "id": "6f645308",
   "metadata": {},
   "outputs": [
    {
     "name": "stdout",
     "output_type": "stream",
     "text": [
      "The Zen of Python, by Tim Peters\n",
      "\n",
      "Beautiful is better than ugly.\n",
      "Explicit is better than implicit.\n",
      "Simple is better than complex.\n",
      "Complex is better than complicated.\n",
      "Flat is better than nested.\n",
      "Sparse is better than dense.\n",
      "Readability counts.\n",
      "Special cases aren't special enough to break the rules.\n",
      "Although practicality beats purity.\n",
      "Errors should never pass silently.\n",
      "Unless explicitly silenced.\n",
      "In the face of ambiguity, refuse the temptation to guess.\n",
      "There should be one-- and preferably only one --obvious way to do it.\n",
      "Although that way may not be obvious at first unless you're Dutch.\n",
      "Now is better than never.\n",
      "Although never is often better than *right* now.\n",
      "If the implementation is hard to explain, it's a bad idea.\n",
      "If the implementation is easy to explain, it may be a good idea.\n",
      "Namespaces are one honking great idea -- let's do more of those!\n"
     ]
    }
   ],
   "source": [
    "from operator import add, gt, sub\n",
    "from unification.core import _unify, _reify, construction_sentinel\n",
    "\n",
    "from kanren import eq, membero, run, unifiable, var, unify, reify\n",
    "from kanren.core import lall\n",
    "from kanren.term import applyo, term  # noqa: F401\n",
    "\n",
    "import ibis\n",
    "import ibis.expr.operations as ops\n",
    "import ibis.expr.datatypes as dt\n",
    "import ibis.expr.rules as rlz\n",
    "from ibis.common.grounds import Pattern, Annotable\n",
    "from collections.abc import Mapping"
   ]
  },
  {
   "cell_type": "code",
   "execution_count": 2,
   "id": "06594231",
   "metadata": {},
   "outputs": [],
   "source": [
    "table = ibis.table([\n",
    "    (\"a\", dt.int32), \n",
    "    (\"b\", dt.float64)\n",
    "])\n",
    "column = table['a'].name(\"a_\").op()"
   ]
  },
  {
   "cell_type": "code",
   "execution_count": 3,
   "id": "c00f426f",
   "metadata": {},
   "outputs": [
    {
     "data": {
      "text/plain": [
       "TableColumn(table=~_1, name=~_2)"
      ]
     },
     "execution_count": 3,
     "metadata": {},
     "output_type": "execute_result"
    }
   ],
   "source": [
    "ops.TableColumn[var(), var()]"
   ]
  },
  {
   "cell_type": "code",
   "execution_count": 4,
   "id": "b8ed254e",
   "metadata": {},
   "outputs": [
    {
     "data": {
      "text/plain": [
       "TableColumn(table=~_3, name=~_4)"
      ]
     },
     "execution_count": 4,
     "metadata": {},
     "output_type": "execute_result"
    }
   ],
   "source": [
    "ops.TableColumn.pattern(var(), name=var())"
   ]
  },
  {
   "cell_type": "code",
   "execution_count": 5,
   "id": "9b7b203a",
   "metadata": {},
   "outputs": [
    {
     "data": {
      "text/plain": [
       "Alias(arg=TableColumn(table=UnboundTable(schema=ibis.Schema {\n",
       "  a  int32\n",
       "  b  float64\n",
       "}, name='unbound_table_0'), name='a'), name='a_')"
      ]
     },
     "execution_count": 5,
     "metadata": {},
     "output_type": "execute_result"
    }
   ],
   "source": [
    "column"
   ]
  },
  {
   "cell_type": "code",
   "execution_count": 6,
   "id": "1bdc072e",
   "metadata": {},
   "outputs": [],
   "source": [
    "# @_unify.register(Annotable, Pattern, Mapping)\n",
    "# def _unify_Annotable(u, v, s):\n",
    "#     return _unify(u.args, v.args, s)\n",
    "\n",
    "# @_unify.register(Pattern, Annotable, Mapping)\n",
    "# def _unify_Pattern(u, v, s):\n",
    "#     return _unify(u.args, v.args, s)\n",
    "\n",
    "# @_reify.register(Pattern, Mapping)\n",
    "# def _reify_Pattern(o, s):\n",
    "#     kwargs = yield _reify(o._args, s) \n",
    "#     obj = o._cls(**kwargs)  \n",
    "#     yield construction_sentinel\n",
    "#     yield obj"
   ]
  },
  {
   "cell_type": "code",
   "execution_count": 6,
   "id": "503b6764",
   "metadata": {},
   "outputs": [
    {
     "data": {
      "text/plain": [
       "{~t: UnboundTable(schema=ibis.Schema {\n",
       "   a  int32\n",
       "   b  float64\n",
       " }, name='unbound_table_0'),\n",
       " ~n: 'a'}"
      ]
     },
     "execution_count": 6,
     "metadata": {},
     "output_type": "execute_result"
    }
   ],
   "source": [
    "t, n = var(\"t\"), var(\"n\")\n",
    "\n",
    "unify(ops.TableColumn.pattern(t, name=n), column.arg)"
   ]
  },
  {
   "cell_type": "code",
   "execution_count": 7,
   "id": "c127707d",
   "metadata": {},
   "outputs": [
    {
     "data": {
      "text/plain": [
       "TableColumn(table=UnboundTable(schema=ibis.Schema {\n",
       "  a  int32\n",
       "  b  float64\n",
       "}, name='unbound_table_0'), name='a')"
      ]
     },
     "execution_count": 7,
     "metadata": {},
     "output_type": "execute_result"
    }
   ],
   "source": [
    "reify(ops.TableColumn.pattern(t, name=n), {t: column.arg.table, n: column.arg.name})"
   ]
  },
  {
   "cell_type": "code",
   "execution_count": 8,
   "id": "cd3cff65",
   "metadata": {},
   "outputs": [
    {
     "data": {
      "text/plain": [
       "UnboundTable(schema=ibis.Schema {\n",
       "  a  int32\n",
       "  b  float64\n",
       "}, name='unbound_table_0')"
      ]
     },
     "execution_count": 8,
     "metadata": {},
     "output_type": "execute_result"
    }
   ],
   "source": [
    "x, y = var(\"x\"), var(\"y\")\n",
    "\n",
    "run(\n",
    "    0, \n",
    "    y, \n",
    "    eq(ops.Alias.pattern(x, name=\"a_\"), column), \n",
    "    eq(ops.TableColumn.pattern(y, name=var()), x)\n",
    ")[0]"
   ]
  },
  {
   "cell_type": "code",
   "execution_count": 9,
   "id": "0b7d8a5f",
   "metadata": {},
   "outputs": [
    {
     "data": {
      "text/plain": [
       "(UnboundTable(schema=ibis.Schema {\n",
       "   a  int32\n",
       "   b  float64\n",
       " }, name='unbound_table_0'),)"
      ]
     },
     "execution_count": 9,
     "metadata": {},
     "output_type": "execute_result"
    }
   ],
   "source": [
    "run(\n",
    "    0, \n",
    "    y, \n",
    "    eq(ops.Alias.pattern(ops.TableColumn.pattern(y, name=var()), name=\"a_\"), column), \n",
    ")"
   ]
  },
  {
   "cell_type": "code",
   "execution_count": 10,
   "id": "f893d3a6",
   "metadata": {},
   "outputs": [],
   "source": [
    "class PhysicalColumn(ops.Node):\n",
    "    table = rlz.instance_of(str)\n",
    "    name = rlz.instance_of(str)"
   ]
  },
  {
   "cell_type": "code",
   "execution_count": 11,
   "id": "9ebc69a2",
   "metadata": {},
   "outputs": [
    {
     "data": {
      "text/plain": [
       "PhysicalColumn(table='unbound_table_0', name='a_')"
      ]
     },
     "execution_count": 11,
     "metadata": {},
     "output_type": "execute_result"
    }
   ],
   "source": [
    "z = var(\"z\")\n",
    "n = var(\"n\")\n",
    "\n",
    "run(\n",
    "    0, \n",
    "    z, \n",
    "    eq(ops.Alias.pattern(ops.TableColumn.pattern(y, name=var()), name=x), column), \n",
    "    eq(ops.UnboundTable.pattern(schema=var(), name=n), y),\n",
    "    eq(PhysicalColumn.pattern(n, name=x), z),\n",
    "\n",
    ")[0]"
   ]
  },
  {
   "cell_type": "code",
   "execution_count": 12,
   "id": "1c7d0323",
   "metadata": {},
   "outputs": [],
   "source": [
    "# Alias(something, )"
   ]
  },
  {
   "cell_type": "code",
   "execution_count": 13,
   "id": "54914e45",
   "metadata": {},
   "outputs": [
    {
     "data": {
      "text/plain": [
       "PhysicalColumn(table='unbound_table_0', name='a_')"
      ]
     },
     "execution_count": 13,
     "metadata": {},
     "output_type": "execute_result"
    }
   ],
   "source": [
    "from ibis.expr.operations import Alias, UnboundTable, TableColumn\n",
    "\n",
    "run(\n",
    "    0, \n",
    "    z, \n",
    "    eq(Alias.match(TableColumn.match(y, name=var()), name=x), column), \n",
    "    eq(UnboundTable.match(schema=var(), name=n), y),\n",
    "    eq(PhysicalColumn.match(n, name=x), z)\n",
    ")[0]"
   ]
  },
  {
   "cell_type": "code",
   "execution_count": 36,
   "id": "fa78a0a7",
   "metadata": {},
   "outputs": [
    {
     "data": {
      "text/plain": [
       "PhysicalColumn(table='unbound_table_1', name='a_')"
      ]
     },
     "execution_count": 36,
     "metadata": {},
     "output_type": "execute_result"
    }
   ],
   "source": [
    "run(\n",
    "    0, \n",
    "    z, \n",
    "    eq(ops.Alias[ops.TableColumn[ops.UnboundTable[var(), x], var()], y], column),\n",
    "    eq(PhysicalColumn[x, y], z)\n",
    ")[0]"
   ]
  },
  {
   "cell_type": "code",
   "execution_count": null,
   "id": "ef399a1d",
   "metadata": {},
   "outputs": [],
   "source": [
    "Alias.match()"
   ]
  }
 ],
 "metadata": {
  "kernelspec": {
   "display_name": "Python 3 (ipykernel)",
   "language": "python",
   "name": "python3"
  },
  "language_info": {
   "codemirror_mode": {
    "name": "ipython",
    "version": 3
   },
   "file_extension": ".py",
   "mimetype": "text/x-python",
   "name": "python",
   "nbconvert_exporter": "python",
   "pygments_lexer": "ipython3",
   "version": "3.9.13"
  }
 },
 "nbformat": 4,
 "nbformat_minor": 5
}
